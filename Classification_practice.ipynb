{
  "nbformat": 4,
  "nbformat_minor": 0,
  "metadata": {
    "kernelspec": {
      "display_name": "Python 3",
      "language": "python",
      "name": "python3"
    },
    "language_info": {
      "codemirror_mode": {
        "name": "ipython",
        "version": 3
      },
      "file_extension": ".py",
      "mimetype": "text/x-python",
      "name": "python",
      "nbconvert_exporter": "python",
      "pygments_lexer": "ipython3",
      "version": "3.6.8"
    },
    "toc": {
      "base_numbering": 1,
      "nav_menu": {},
      "number_sections": true,
      "sideBar": true,
      "skip_h1_title": false,
      "title_cell": "Table of Contents",
      "title_sidebar": "Contents",
      "toc_cell": false,
      "toc_position": {},
      "toc_section_display": true,
      "toc_window_display": false
    },
    "colab": {
      "name": "Classification_LectureNotes_practice.ipynb",
      "provenance": [],
      "include_colab_link": true
    }
  },
  "cells": [
    {
      "cell_type": "markdown",
      "metadata": {
        "id": "view-in-github",
        "colab_type": "text"
      },
      "source": [
        "<a href=\"https://colab.research.google.com/github/SaranTrKS/MachineLearningProjects_CloudXLab/blob/main/Classification_practice.ipynb\" target=\"_parent\"><img src=\"https://colab.research.google.com/assets/colab-badge.svg\" alt=\"Open In Colab\"/></a>"
      ]
    },
    {
      "cell_type": "markdown",
      "metadata": {
        "id": "qSRjFIGw0BiZ"
      },
      "source": [
        "# Classification of MNIST handwritten data"
      ]
    },
    {
      "cell_type": "code",
      "metadata": {
        "id": "oXwWUBG20Bii"
      },
      "source": [
        "from sklearn.datasets import fetch_openml\n",
        "mnist = fetch_openml('mnist_784', version = 1, cache = True)\n",
        "X, y =mnist['data'], mnist['target']"
      ],
      "execution_count": null,
      "outputs": []
    },
    {
      "cell_type": "markdown",
      "metadata": {
        "id": "uKV2ugw_0Bij"
      },
      "source": [
        "**Author**: Yann LeCun, Corinna Cortes, Christopher J.C. Burges  \n",
        "**Source**: [MNIST Website](http://yann.lecun.com/exdb/mnist/) - Date unknown  \n",
        "**Please cite**:  \n",
        "\n",
        "The MNIST database of handwritten digits with 784 features, raw data available at: http://yann.lecun.com/exdb/mnist/. It can be split in a training set of the first 60,000 examples, and a test set of 10,000 examples  \n",
        "\n",
        "It is a subset of a larger set available from NIST. The digits have been size-normalized and centered in a fixed-size image. It is a good database for people who want to try learning techniques and pattern recognition methods on real-world data while spending minimal efforts on preprocessing and formatting. The original black and white (bilevel) images from NIST were size normalized to fit in a 20x20 pixel box while preserving their aspect ratio. The resulting images contain grey levels as a result of the anti-aliasing technique used by the normalization algorithm. the images were centered in a 28x28 image by computing the center of mass of the pixels, and translating the image so as to position this point at the center of the 28x28 field.  \n",
        "\n",
        "With some classification methods (particularly template-based methods, such as SVM and K-nearest neighbors), the error rate improves when the digits are centered by bounding box rather than center of mass. If you do this kind of pre-processing, you should report it in your publications. The MNIST database was constructed from NIST's NIST originally designated SD-3 as their training set and SD-1 as their test set. However, SD-3 is much cleaner and easier to recognize than SD-1. The reason for this can be found on the fact that SD-3 was collected among Census Bureau employees, while SD-1 was collected among high-school students. Drawing sensible conclusions from learning experiments requires that the result be independent of the choice of training set and test among the complete set of samples. Therefore it was necessary to build a new database by mixing NIST's datasets.  \n",
        "\n",
        "The MNIST training set is composed of 30,000 patterns from SD-3 and 30,000 patterns from SD-1. Our test set was composed of 5,000 patterns from SD-3 and 5,000 patterns from SD-1. The 60,000 pattern training set contained examples from approximately 250 writers. We made sure that the sets of writers of the training set and test set were disjoint. SD-1 contains 58,527 digit images written by 500 different writers. In contrast to SD-3, where blocks of data from each writer appeared in sequence, the data in SD-1 is scrambled. Writer identities for SD-1 is available and we used this information to unscramble the writers. We then split SD-1 in two: characters written by the first 250 writers went into our new training set. The remaining 250 writers were placed in our test set. Thus we had two sets with nearly 30,000 examples each. The new training set was completed with enough examples from SD-3, starting at pattern # 0, to make a full set of 60,000 training patterns. Similarly, the new test set was completed with SD-3 examples starting at pattern # 35,000 to make a full set with 60,000 test patterns. Only a subset of 10,000 test images (5,000 from SD-1 and 5,000 from SD-3) is available on this site. The full 60,000 sample training set is available.\n",
        "\n",
        "Downloaded from openml.org."
      ]
    },
    {
      "cell_type": "code",
      "metadata": {
        "colab": {
          "base_uri": "https://localhost:8080/"
        },
        "id": "_GDVZcj40Bik",
        "outputId": "b7846719-5c54-43d4-fc09-dac98b775d0a"
      },
      "source": [
        "X"
      ],
      "execution_count": null,
      "outputs": [
        {
          "output_type": "execute_result",
          "data": {
            "text/plain": [
              "array([[0., 0., 0., ..., 0., 0., 0.],\n",
              "       [0., 0., 0., ..., 0., 0., 0.],\n",
              "       [0., 0., 0., ..., 0., 0., 0.],\n",
              "       ...,\n",
              "       [0., 0., 0., ..., 0., 0., 0.],\n",
              "       [0., 0., 0., ..., 0., 0., 0.],\n",
              "       [0., 0., 0., ..., 0., 0., 0.]])"
            ]
          },
          "metadata": {
            "tags": []
          },
          "execution_count": 2
        }
      ]
    },
    {
      "cell_type": "code",
      "metadata": {
        "colab": {
          "base_uri": "https://localhost:8080/"
        },
        "id": "bJVqrAa90Bim",
        "outputId": "8b4388ab-fc5c-4de5-b88d-4f366e40e3e1"
      },
      "source": [
        "mnist['target']"
      ],
      "execution_count": null,
      "outputs": [
        {
          "output_type": "execute_result",
          "data": {
            "text/plain": [
              "array(['5', '0', '4', ..., '4', '5', '6'], dtype=object)"
            ]
          },
          "metadata": {
            "tags": []
          },
          "execution_count": 3
        }
      ]
    },
    {
      "cell_type": "code",
      "metadata": {
        "scrolled": true,
        "colab": {
          "base_uri": "https://localhost:8080/"
        },
        "id": "K4_nbq2_0Bim",
        "outputId": "e80f1777-b3a7-4dd4-edb5-b54445800249"
      },
      "source": [
        "mnist['data'][36000]"
      ],
      "execution_count": null,
      "outputs": [
        {
          "output_type": "execute_result",
          "data": {
            "text/plain": [
              "array([  0.,   0.,   0.,   0.,   0.,   0.,   0.,   0.,   0.,   0.,   0.,\n",
              "         0.,   0.,   0.,   0.,   0.,   0.,   0.,   0.,   0.,   0.,   0.,\n",
              "         0.,   0.,   0.,   0.,   0.,   0.,   0.,   0.,   0.,   0.,   0.,\n",
              "         0.,   0.,   0.,   0.,   0.,   0.,   0.,   0.,   0.,   0.,   0.,\n",
              "         0.,   0.,   0.,   0.,   0.,   0.,   0.,   0.,   0.,   0.,   0.,\n",
              "         0.,   0.,   0.,   0.,   0.,   0.,   0.,   0.,   0.,   0.,   0.,\n",
              "         0.,   0.,   0.,   0.,   0.,   0.,   0.,   0.,   0.,   0.,   0.,\n",
              "         0.,   0.,   0.,   0.,   0.,   0.,   0.,   0.,   0.,   0.,   0.,\n",
              "         0.,   0.,   0.,   0.,   0.,   0.,   0.,   0.,   0.,   0.,   0.,\n",
              "         0.,   0.,   0.,   0.,   0.,   0.,   0.,   0.,   0.,   0.,   0.,\n",
              "         0.,   0.,   0.,   0.,   0.,   0.,   0.,   0.,   0.,   0.,   0.,\n",
              "         0.,   0.,   0.,   0.,   0.,   0.,   0.,   0.,   0.,   0.,   0.,\n",
              "         0.,   0.,   0.,   0.,   0.,   0.,   0.,   0.,   0.,   0.,   0.,\n",
              "         0.,   0.,   0.,   0.,   0.,   0.,   0.,   0.,   0.,   0.,   0.,\n",
              "         0.,   0.,   0.,   0.,   0.,   0.,   0.,   0.,   0.,   0.,   0.,\n",
              "         0.,   0.,   0.,   0.,   0.,   0.,   0.,   0.,   0.,   0.,   0.,\n",
              "         0.,   0.,   0.,   0.,   0.,   0.,   0.,   0.,   0.,   4., 149.,\n",
              "       255., 184.,  12.,   0.,   0.,   0.,   0.,   0.,   0.,   0.,   0.,\n",
              "         0.,   0.,   0.,   0.,   0.,   0.,   0.,   0.,   0.,   0.,   0.,\n",
              "         0.,   0.,  11., 133., 212., 253., 253., 253., 102.,   0.,   0.,\n",
              "         0.,   0.,   0.,   0.,   0.,   0.,   0.,   0.,   0.,   0.,   0.,\n",
              "         0.,   0.,   0.,   0.,   0.,   0.,   0., 162., 236., 253., 253.,\n",
              "       253., 253., 253.,  55.,   0.,   0.,   0.,   0.,   0.,   0.,   0.,\n",
              "         0.,   0.,   0.,   0.,   0.,   0.,   0.,   0.,   0.,   0.,   0.,\n",
              "        35., 196., 253., 253., 253., 253., 253., 253., 239.,  18.,   0.,\n",
              "         0.,   0.,   0.,   0.,   0.,   0.,   0.,   0.,   0.,   0.,   0.,\n",
              "         0.,   0.,   0.,   0.,   0.,  89., 249., 253., 253., 253., 185.,\n",
              "       253., 253., 177.,  24.,   0.,   0.,   0.,   0.,   0.,   0.,   0.,\n",
              "         0.,   0.,   0.,   0.,   0.,   0.,   0.,   0.,   0.,   0., 129.,\n",
              "       247., 253., 253., 165., 150., 205., 253., 139.,   3.,   0.,   0.,\n",
              "         0.,   0.,   0.,   0.,   0.,   0.,   0.,   0.,   0.,   0.,   0.,\n",
              "         0.,   0.,   0.,   0.,  89., 247., 253., 240., 131.,  85., 221.,\n",
              "       253., 253.,  84.,   0.,   0.,   0.,   0.,   0.,   0.,   0.,   0.,\n",
              "         0.,   0.,   0.,   0.,   0.,   0.,   0.,   0.,   0.,   4., 187.,\n",
              "       253., 253., 236., 139., 252., 253., 253., 253.,  84.,   0.,   0.,\n",
              "         0.,   0.,   0.,   0.,   0.,   0.,   0.,   0.,   0.,   0.,   0.,\n",
              "         0.,   0.,   0.,   0.,  21., 253., 253., 253., 253., 253., 253.,\n",
              "       253., 253., 248.,  53.,   0.,   0.,   0.,   0.,   0.,   0.,   0.,\n",
              "         0.,   0.,   0.,   0.,   0.,   0.,   0.,   0.,   0.,   0.,  99.,\n",
              "       253., 253., 253., 253., 253., 214., 253., 253., 179.,   0.,   0.,\n",
              "         0.,   0.,   0.,   0.,   0.,   0.,   0.,   0.,   0.,   0.,   0.,\n",
              "         0.,   0.,   0.,   0.,   0.,   4., 186., 251., 253., 249., 172.,\n",
              "       133., 253., 253., 137.,   0.,   0.,   0.,   0.,   0.,   0.,   0.,\n",
              "         0.,   0.,   0.,   0.,   0.,   0.,   0.,   0.,   0.,   0.,   0.,\n",
              "         0.,   0.,  49.,  94.,   6.,   0., 212., 253., 253.,  39.,   0.,\n",
              "         0.,   0.,   0.,   0.,   0.,   0.,   0.,   0.,   0.,   0.,   0.,\n",
              "         0.,   0.,   0.,   0.,   0.,   0.,   0.,   0.,   0.,   0.,   0.,\n",
              "       126., 253., 253., 197.,   6.,   0.,   0.,   0.,   0.,   0.,   0.,\n",
              "         0.,   0.,   0.,   0.,   0.,   0.,   0.,   0.,   0.,   0.,   0.,\n",
              "         0.,   0.,   0.,   0.,   0.,  27., 234., 253., 253.,  94.,   0.,\n",
              "         0.,   0.,   0.,   0.,   0.,   0.,   0.,   0.,   0.,   0.,   0.,\n",
              "         0.,   0.,   0.,   0.,   0.,   0.,   0.,   0.,   0.,   0.,   0.,\n",
              "       100., 253., 253., 239.,  11.,   0.,   0.,   0.,   0.,   0.,   0.,\n",
              "         0.,   0.,   0.,   0.,   0.,   0.,   0.,   0.,   0.,   0.,   0.,\n",
              "         0.,   0.,   0.,   0.,   0.,  61., 249., 253., 253.,  79.,   0.,\n",
              "         0.,   0.,   0.,   0.,   0.,   0.,   0.,   0.,   0.,   0.,   0.,\n",
              "         0.,   0.,   0.,   0.,   0.,   0.,   0.,   0.,   0.,   0.,   5.,\n",
              "       109., 253., 253., 193.,   4.,   0.,   0.,   0.,   0.,   0.,   0.,\n",
              "         0.,   0.,   0.,   0.,   0.,   0.,   0.,   0.,   0.,   0.,   0.,\n",
              "         0.,   0.,   0.,   0.,   0.,  66., 253., 253., 253.,  30.,   0.,\n",
              "         0.,   0.,   0.,   0.,   0.,   0.,   0.,   0.,   0.,   0.,   0.,\n",
              "         0.,   0.,   0.,   0.,   0.,   0.,   0.,   0.,   0.,   0.,   0.,\n",
              "       147., 253., 253., 182.,   2.,   0.,   0.,   0.,   0.,   0.,   0.,\n",
              "         0.,   0.,   0.,   0.,   0.,   0.,   0.,   0.,   0.,   0.,   0.,\n",
              "         0.,   0.,   0.,   0.,   0.,  99., 248., 253., 222.,  13.,   0.,\n",
              "         0.,   0.,   0.,   0.,   0.,   0.,   0.,   0.,   0.,   0.,   0.,\n",
              "         0.,   0.,   0.,   0.,   0.,   0.,   0.,   0.,   0.,   0.,   0.,\n",
              "         0.,   0.,   0.,   0.,   0.,   0.,   0.,   0.,   0.,   0.,   0.,\n",
              "         0.,   0.,   0.,   0.,   0.,   0.,   0.,   0.,   0.,   0.,   0.,\n",
              "         0.,   0.,   0.,   0.,   0.,   0.,   0.,   0.,   0.,   0.,   0.,\n",
              "         0.,   0.,   0.,   0.,   0.,   0.,   0.,   0.,   0.,   0.,   0.,\n",
              "         0.,   0.,   0.])"
            ]
          },
          "metadata": {
            "tags": []
          },
          "execution_count": 4
        }
      ]
    },
    {
      "cell_type": "code",
      "metadata": {
        "id": "uXMXSlvZ0Bin"
      },
      "source": [
        "import pandas as pd \n",
        "import numpy as np"
      ],
      "execution_count": null,
      "outputs": []
    },
    {
      "cell_type": "code",
      "metadata": {
        "colab": {
          "base_uri": "https://localhost:8080/"
        },
        "id": "9rDL0g020Bin",
        "outputId": "251f96f2-ef8f-45a0-aac4-58f793098823"
      },
      "source": [
        "print(set(list(mnist['target'])))"
      ],
      "execution_count": null,
      "outputs": [
        {
          "output_type": "stream",
          "text": [
            "{'1', '2', '0', '9', '8', '6', '4', '7', '5', '3'}\n"
          ],
          "name": "stdout"
        }
      ]
    },
    {
      "cell_type": "code",
      "metadata": {
        "colab": {
          "base_uri": "https://localhost:8080/",
          "height": 248
        },
        "id": "mcOh4a5H0Bio",
        "outputId": "f46320e7-fcef-4d69-e231-ed6947ac4e67"
      },
      "source": [
        "%matplotlib inline\n",
        "import matplotlib \n",
        "import matplotlib.pyplot as plt\n",
        "some_digit = X[36000]\n",
        "some_digit_image = some_digit.reshape(28,28)\n",
        "plt.imshow(some_digit_image, cmap = matplotlib.cm.binary, interpolation = 'nearest')\n",
        "plt.axis('off')\n",
        "plt.show()"
      ],
      "execution_count": null,
      "outputs": [
        {
          "output_type": "display_data",
          "data": {
            "image/png": "[encoded data removed]",
            "text/plain": [
              "<Figure size 432x288 with 1 Axes>"
            ]
          },
          "metadata": {
            "tags": [],
            "needs_background": "light"
          }
        }
      ]
    },
    {
      "cell_type": "markdown",
      "metadata": {
        "id": "lBLy9Up90Bip"
      },
      "source": [
        "#"
      ]
    },
    {
      "cell_type": "markdown",
      "metadata": {
        "id": "UeQ_k1n90Bip"
      },
      "source": [
        "# Dividing the dataset in training and test datast"
      ]
    },
    {
      "cell_type": "code",
      "metadata": {
        "id": "Ea2X7kl30Bip"
      },
      "source": [
        "X_train, X_test, y_train, y_test = X[:60000], X[60000:], y[:60000], y[60000:]\n",
        "import numpy as np\n",
        "np.random.seed(42)\n",
        "shuffle_index = np.random.permutation(60000)\n",
        "X_train, y_train = X_train[shuffle_index], y_train[shuffle_index]"
      ],
      "execution_count": null,
      "outputs": []
    },
    {
      "cell_type": "markdown",
      "metadata": {
        "id": "LaBw09w90Biq"
      },
      "source": [
        "# TrainClassifier Using training "
      ]
    },
    {
      "cell_type": "code",
      "metadata": {
        "colab": {
          "base_uri": "https://localhost:8080/"
        },
        "id": "rPojHYlY0Biq",
        "outputId": "6d2f8645-2089-4f78-d6cc-44a92366f51f"
      },
      "source": [
        "#we are going to use Stochastic Gradient Descent(SGD) classifier\n",
        "\n",
        "from sklearn.linear_model import SGDClassifier\n",
        "X1 = {\"xcoor\": pd.Series([0,1]), \"ycoord\": pd.Series([0,1])}\n",
        "X3 = pd.DataFrame(X1)\n",
        "y = [0,1]\n",
        "clf = SGDClassifier(loss = 'hinge', penalty = \"l2\")\n",
        "clf.fit(X3, y)\n"
      ],
      "execution_count": null,
      "outputs": [
        {
          "output_type": "execute_result",
          "data": {
            "text/plain": [
              "SGDClassifier(alpha=0.0001, average=False, class_weight=None,\n",
              "              early_stopping=False, epsilon=0.1, eta0=0.0, fit_intercept=True,\n",
              "              l1_ratio=0.15, learning_rate='optimal', loss='hinge',\n",
              "              max_iter=1000, n_iter_no_change=5, n_jobs=None, penalty='l2',\n",
              "              power_t=0.5, random_state=None, shuffle=True, tol=0.001,\n",
              "              validation_fraction=0.1, verbose=0, warm_start=False)"
            ]
          },
          "metadata": {
            "tags": []
          },
          "execution_count": 9
        }
      ]
    },
    {
      "cell_type": "code",
      "metadata": {
        "id": "85P6IKQf0Bir"
      },
      "source": [
        "y_train_9  = (y_train == '9') \n",
        "y_test_9 = (y_test == '9')"
      ],
      "execution_count": null,
      "outputs": []
    },
    {
      "cell_type": "code",
      "metadata": {
        "colab": {
          "base_uri": "https://localhost:8080/"
        },
        "id": "kmvk8lIH0Bir",
        "outputId": "03aa202c-0a22-4e80-b888-4fa020f0d583"
      },
      "source": [
        "type(y_train_9)\n",
        "np.unique(y_train_9)"
      ],
      "execution_count": null,
      "outputs": [
        {
          "output_type": "execute_result",
          "data": {
            "text/plain": [
              "array([False,  True])"
            ]
          },
          "metadata": {
            "tags": []
          },
          "execution_count": 11
        }
      ]
    },
    {
      "cell_type": "code",
      "metadata": {
        "colab": {
          "base_uri": "https://localhost:8080/"
        },
        "id": "8LTI4J-E0Bir",
        "outputId": "a5ed18e2-1ad0-40c2-8460-53210db28d71"
      },
      "source": [
        "from sklearn.linear_model import SGDClassifier\n",
        "sgd_clf = SGDClassifier(random_state = 42, max_iter = 10)\n",
        "sgd_clf.fit(X_train, y_train_9)"
      ],
      "execution_count": null,
      "outputs": [
        {
          "output_type": "stream",
          "text": [
            "/usr/local/lib/python3.7/dist-packages/sklearn/linear_model/_stochastic_gradient.py:557: ConvergenceWarning: Maximum number of iteration reached before convergence. Consider increasing max_iter to improve the fit.\n",
            "  ConvergenceWarning)\n"
          ],
          "name": "stderr"
        },
        {
          "output_type": "execute_result",
          "data": {
            "text/plain": [
              "SGDClassifier(alpha=0.0001, average=False, class_weight=None,\n",
              "              early_stopping=False, epsilon=0.1, eta0=0.0, fit_intercept=True,\n",
              "              l1_ratio=0.15, learning_rate='optimal', loss='hinge', max_iter=10,\n",
              "              n_iter_no_change=5, n_jobs=None, penalty='l2', power_t=0.5,\n",
              "              random_state=42, shuffle=True, tol=0.001, validation_fraction=0.1,\n",
              "              verbose=0, warm_start=False)"
            ]
          },
          "metadata": {
            "tags": []
          },
          "execution_count": 12
        }
      ]
    },
    {
      "cell_type": "code",
      "metadata": {
        "colab": {
          "base_uri": "https://localhost:8080/"
        },
        "id": "Q7Aera430Bis",
        "outputId": "2a69a770-5c6a-4367-f93e-c1f1785d5d79"
      },
      "source": [
        "#testing SGD Classifier in Sklearn\n",
        "\n",
        "some_digit = X[36000]\n",
        "sgd_clf.predict([some_digit])"
      ],
      "execution_count": null,
      "outputs": [
        {
          "output_type": "execute_result",
          "data": {
            "text/plain": [
              "array([False])"
            ]
          },
          "metadata": {
            "tags": []
          },
          "execution_count": 13
        }
      ]
    },
    {
      "cell_type": "code",
      "metadata": {
        "colab": {
          "base_uri": "https://localhost:8080/",
          "height": 248
        },
        "id": "h3QuXQDc0Bis",
        "outputId": "206abe3b-7075-44d2-d11b-8877c5ea5292"
      },
      "source": [
        "some_digit = X[36000]\n",
        "some_digit_image = some_digit.reshape(28,28)\n",
        "plt.imshow(some_digit_image, cmap = matplotlib.cm.binary, interpolation = 'nearest')\n",
        "plt.axis('off')\n",
        "plt.show()"
      ],
      "execution_count": null,
      "outputs": [
        {
          "output_type": "display_data",
          "data": {
            "image/png": "[encoded data removed]",
            "text/plain": [
              "<Figure size 432x288 with 1 Axes>"
            ]
          },
          "metadata": {
            "tags": [],
            "needs_background": "light"
          }
        }
      ]
    },
    {
      "cell_type": "markdown",
      "metadata": {
        "id": "Cimx-6SB0Bit"
      },
      "source": [
        "# Performance Metrics"
      ]
    },
    {
      "cell_type": "markdown",
      "metadata": {
        "id": "A50Qs7dq0Bit"
      },
      "source": [
        "- Cross Validation - Accuracy\n",
        "- Confusion Matrix\n",
        "    - Precision\n",
        "    - Recall\n",
        "    - F1 score\n",
        "- ROC Curve"
      ]
    },
    {
      "cell_type": "markdown",
      "metadata": {
        "id": "IAbs1tB70Biu"
      },
      "source": [
        "## Cross Validation - Accuracy"
      ]
    },
    {
      "cell_type": "code",
      "metadata": {
        "colab": {
          "base_uri": "https://localhost:8080/"
        },
        "id": "jHHGuN1S0Biu",
        "outputId": "fe809500-ce0e-43a9-b80a-ee6bdd375803"
      },
      "source": [
        "from sklearn.model_selection import cross_val_score\n",
        "cross_val_score(sgd_clf, X_train, y_train_9, cv = 3, scoring = 'accuracy')\n"
      ],
      "execution_count": null,
      "outputs": [
        {
          "output_type": "stream",
          "text": [
            "/usr/local/lib/python3.7/dist-packages/sklearn/linear_model/_stochastic_gradient.py:557: ConvergenceWarning: Maximum number of iteration reached before convergence. Consider increasing max_iter to improve the fit.\n",
            "  ConvergenceWarning)\n",
            "/usr/local/lib/python3.7/dist-packages/sklearn/linear_model/_stochastic_gradient.py:557: ConvergenceWarning: Maximum number of iteration reached before convergence. Consider increasing max_iter to improve the fit.\n",
            "  ConvergenceWarning)\n",
            "/usr/local/lib/python3.7/dist-packages/sklearn/linear_model/_stochastic_gradient.py:557: ConvergenceWarning: Maximum number of iteration reached before convergence. Consider increasing max_iter to improve the fit.\n",
            "  ConvergenceWarning)\n"
          ],
          "name": "stderr"
        },
        {
          "output_type": "execute_result",
          "data": {
            "text/plain": [
              "array([0.9401 , 0.95175, 0.9485 ])"
            ]
          },
          "metadata": {
            "tags": []
          },
          "execution_count": 15
        }
      ]
    },
    {
      "cell_type": "markdown",
      "metadata": {
        "id": "N-xyljx80Biu"
      },
      "source": [
        "- The resulting accuracy of 95% is good enough?\n",
        "\n",
        "    ● Accuracy may not be a good performance measure when dealing with   skewed datasets\n",
        "    \n",
        "    ● Ours is a skewed dataset with only 10% of the data as\n",
        "    digit 5."
      ]
    },
    {
      "cell_type": "markdown",
      "metadata": {
        "id": "LI7k7dJ50Biv"
      },
      "source": [
        "Is the accuracy of 95% for SGD Classifier good enough?\n",
        "Probably Not!\n",
        "Never5Classifier - a dumb classifier gave an accuracy of 90%\n",
        "We need a better measure of performance for the classifier"
      ]
    },
    {
      "cell_type": "markdown",
      "metadata": {
        "id": "N38_nNnS0Biv"
      },
      "source": [
        "## Confusion Matrix"
      ]
    },
    {
      "cell_type": "markdown",
      "metadata": {
        "id": "mG1zQL7L0Biv"
      },
      "source": [
        "- What is confusion matrix?\n",
        "    - The general idea is to count the number of times instances of class  A are classified as class B. \n",
        "    - Can be better than simple accuracy"
      ]
    },
    {
      "cell_type": "code",
      "metadata": {
        "colab": {
          "base_uri": "https://localhost:8080/"
        },
        "id": "OpS-94I-0Biw",
        "outputId": "a6428b96-8ba5-45d6-b1b3-20dd58409951"
      },
      "source": [
        "from sklearn.model_selection import cross_val_predict\n",
        "y_train_pred = cross_val_predict(sgd_clf, X_train, y_train_9, cv = 3)\n",
        "\n",
        "from sklearn.metrics import confusion_matrix\n",
        "confusion_matrix(y_train_9, y_train_pred)\n"
      ],
      "execution_count": null,
      "outputs": [
        {
          "output_type": "stream",
          "text": [
            "/usr/local/lib/python3.7/dist-packages/sklearn/linear_model/_stochastic_gradient.py:557: ConvergenceWarning: Maximum number of iteration reached before convergence. Consider increasing max_iter to improve the fit.\n",
            "  ConvergenceWarning)\n",
            "/usr/local/lib/python3.7/dist-packages/sklearn/linear_model/_stochastic_gradient.py:557: ConvergenceWarning: Maximum number of iteration reached before convergence. Consider increasing max_iter to improve the fit.\n",
            "  ConvergenceWarning)\n",
            "/usr/local/lib/python3.7/dist-packages/sklearn/linear_model/_stochastic_gradient.py:557: ConvergenceWarning: Maximum number of iteration reached before convergence. Consider increasing max_iter to improve the fit.\n",
            "  ConvergenceWarning)\n"
          ],
          "name": "stderr"
        },
        {
          "output_type": "execute_result",
          "data": {
            "text/plain": [
              "array([[52072,  1979],\n",
              "       [ 1214,  4735]])"
            ]
          },
          "metadata": {
            "tags": []
          },
          "execution_count": 16
        }
      ]
    },
    {
      "cell_type": "code",
      "metadata": {
        "colab": {
          "base_uri": "https://localhost:8080/"
        },
        "id": "qG0Itbc30Biw",
        "outputId": "7a93b8f2-e384-464d-b7e9-d30b3ce2a26e"
      },
      "source": [
        "from sklearn.metrics import precision_score, recall_score\n",
        "print(precision_score(y_train_9, y_train_pred),\n",
        "recall_score(y_train_9, y_train_pred))"
      ],
      "execution_count": null,
      "outputs": [
        {
          "output_type": "stream",
          "text": [
            "0.7052427762883527 0.7959320894267944\n"
          ],
          "name": "stdout"
        }
      ]
    },
    {
      "cell_type": "code",
      "metadata": {
        "colab": {
          "base_uri": "https://localhost:8080/"
        },
        "id": "DGpSXo5f0Bix",
        "outputId": "67d31d92-d775-4ec3-97c7-e4d64a70d2c8"
      },
      "source": [
        "y_scores = sgd_clf.decision_function([some_digit])\n",
        "y_scores"
      ],
      "execution_count": null,
      "outputs": [
        {
          "output_type": "execute_result",
          "data": {
            "text/plain": [
              "array([-108872.68104161])"
            ]
          },
          "metadata": {
            "tags": []
          },
          "execution_count": 18
        }
      ]
    },
    {
      "cell_type": "code",
      "metadata": {
        "colab": {
          "base_uri": "https://localhost:8080/"
        },
        "id": "A1lNgoeZ0Bix",
        "outputId": "79d8afbd-1895-4583-ea6b-8e7501e0987b"
      },
      "source": [
        "threshold = 0\n",
        "y_some_digit_pred = (y_scores > threshold)\n",
        "y_some_digit_pred"
      ],
      "execution_count": null,
      "outputs": [
        {
          "output_type": "execute_result",
          "data": {
            "text/plain": [
              "array([False])"
            ]
          },
          "metadata": {
            "tags": []
          },
          "execution_count": 19
        }
      ]
    },
    {
      "cell_type": "markdown",
      "metadata": {
        "id": "RIOkzmcN0Bix"
      },
      "source": [
        "By selecting an appropriate threshold, the user can obtain the\n",
        "desired precision. However, the best precision may not have the best\n",
        "recall."
      ]
    },
    {
      "cell_type": "markdown",
      "metadata": {
        "id": "0U67VXvS0Biy"
      },
      "source": [
        "How to decide the best threshold?\n",
        "\n",
        "    ● Get the scores of all the training dataset using cross_val_predict with\n",
        "decision_function as function\n",
        "\n",
        "    ● Compute the precision and recall for all possible thresholds using\n",
        "precision_recall_curve()\n",
        "\n",
        "    ● Plot both precision and recall for the thresholds using matplotlib\n",
        "    \n",
        "    ● Select the threshold value that gives the best precision/ recall tradeoff to the task at hand."
      ]
    },
    {
      "cell_type": "code",
      "metadata": {
        "colab": {
          "base_uri": "https://localhost:8080/"
        },
        "id": "HL0jc-Fm0Biy",
        "outputId": "f30516bb-585f-445d-b733-aaf94978a8c4"
      },
      "source": [
        "#Calculating precision/ recall curve using Scikit-Learn\n",
        "\n",
        "y_scores = cross_val_predict(sgd_clf, X_train, y_train_9, cv=3, \n",
        "                             method=\"decision_function\")\n"
      ],
      "execution_count": null,
      "outputs": [
        {
          "output_type": "stream",
          "text": [
            "/usr/local/lib/python3.7/dist-packages/sklearn/linear_model/_stochastic_gradient.py:557: ConvergenceWarning: Maximum number of iteration reached before convergence. Consider increasing max_iter to improve the fit.\n",
            "  ConvergenceWarning)\n",
            "/usr/local/lib/python3.7/dist-packages/sklearn/linear_model/_stochastic_gradient.py:557: ConvergenceWarning: Maximum number of iteration reached before convergence. Consider increasing max_iter to improve the fit.\n",
            "  ConvergenceWarning)\n",
            "/usr/local/lib/python3.7/dist-packages/sklearn/linear_model/_stochastic_gradient.py:557: ConvergenceWarning: Maximum number of iteration reached before convergence. Consider increasing max_iter to improve the fit.\n",
            "  ConvergenceWarning)\n"
          ],
          "name": "stderr"
        }
      ]
    },
    {
      "cell_type": "code",
      "metadata": {
        "colab": {
          "base_uri": "https://localhost:8080/"
        },
        "id": "l-6_DpWK0Biz",
        "outputId": "58bfc9cf-29e2-4832-bc8a-a6db7bcc7092"
      },
      "source": [
        "from sklearn.metrics import precision_recall_curve\n",
        "\n",
        "precisions, recalls, thresholds = precision_recall_curve(y_train_9, y_scores)\n",
        "\n",
        "print(len(precisions), len(recalls), len(y_scores))"
      ],
      "execution_count": null,
      "outputs": [
        {
          "output_type": "stream",
          "text": [
            "58235 58235 60000\n"
          ],
          "name": "stdout"
        }
      ]
    },
    {
      "cell_type": "code",
      "metadata": {
        "colab": {
          "base_uri": "https://localhost:8080/",
          "height": 241
        },
        "id": "Ds2UaZr10Biz",
        "outputId": "b2ef90ef-b86b-4177-e92f-074199d61188"
      },
      "source": [
        "def plot_precision_recall_vs_threshold(precision, recalls, thresholds):\n",
        "    plt.figure(figsize = (30,10))\n",
        "    plt.plot(thresholds, precisions[:-1], \"b--\", label = \"Precision\")\n",
        "    plt.plot(thresholds, recalls[:-1], \"g-\", label = \"recall\")\n",
        "    plt.xlabel(\"Threshold\")\n",
        "    plt.legend(loc = \"upper left\")\n",
        "    plt.ylim([0, 1])\n",
        "\n",
        "plot_precision_recall_vs_threshold(precisions, recalls, thresholds)\n",
        "plt.show()"
      ],
      "execution_count": null,
      "outputs": [
        {
          "output_type": "display_data",
          "data": {
            "image/png": "[encoded data removed]",
            "text/plain": [
              "<Figure size 2160x720 with 1 Axes>"
            ]
          },
          "metadata": {
            "tags": [],
            "needs_background": "light"
          }
        }
      ]
    },
    {
      "cell_type": "code",
      "metadata": {
        "colab": {
          "base_uri": "https://localhost:8080/",
          "height": 279
        },
        "id": "z0cP4Ne40Biz",
        "outputId": "145631ac-a5e8-4462-d67a-a489d4eb8953"
      },
      "source": [
        "def plot_precision_vs_recall(precisions, recalls):\n",
        "    plt.figure(figsize = (18,7))\n",
        "    plt.plot(recalls[:-1], precisions[:-1], 'b-', label = \"precision\")\n",
        "    plt.xlabel('Recall')\n",
        "    plt.ylabel('Precision')\n",
        "    plt.legend(loc = \"upper left\")\n",
        "    plt.ylim([0,1])\n",
        "    \n",
        "plot_precision_vs_recall(precisions, recalls)\n",
        "plt.show()"
      ],
      "execution_count": null,
      "outputs": [
        {
          "output_type": "display_data",
          "data": {
            "image/png": "[encoded data removed]",
            "text/plain": [
              "<Figure size 1296x504 with 1 Axes>"
            ]
          },
          "metadata": {
            "tags": [],
            "needs_background": "light"
          }
        }
      ]
    },
    {
      "cell_type": "code",
      "metadata": {
        "colab": {
          "base_uri": "https://localhost:8080/",
          "height": 278
        },
        "id": "a8qBFAGh0Bi1",
        "outputId": "3916f3f3-5f9a-4100-91fa-cfb6444f99df"
      },
      "source": [
        "from sklearn.metrics import roc_curve\n",
        "fpr, tpr, thresholds = roc_curve(y_train_9, y_scores)\n",
        "\n",
        "def plot_roc_curve(frp, tpr, label = None):\n",
        "    plt.figure(figsize = (18,7))\n",
        "    plt.plot(fpr, tpr, linewidth = 2, label = label)\n",
        "    plt.plot([0,1], [0,1], 'k--')\n",
        "    plt.axis([0, 1, 0, 1])\n",
        "    plt.xlabel('False Positve Rate')\n",
        "    plt.ylabel('True Positive Rate')\n",
        "    \n",
        "plot_roc_curve(fpr, tpr)\n",
        "plt.show()"
      ],
      "execution_count": null,
      "outputs": [
        {
          "output_type": "display_data",
          "data": {
            "image/png": "[encoded data removed]",
            "text/plain": [
              "<Figure size 1296x504 with 1 Axes>"
            ]
          },
          "metadata": {
            "tags": [],
            "needs_background": "light"
          }
        }
      ]
    },
    {
      "cell_type": "code",
      "metadata": {
        "colab": {
          "base_uri": "https://localhost:8080/",
          "height": 298
        },
        "id": "KYUxCGyO0Bi1",
        "outputId": "aa0dc45b-1ac8-46b0-dff2-b4af6c9f5aa4"
      },
      "source": [
        "from sklearn.ensemble import RandomForestClassifier\n",
        "forest_clf = RandomForestClassifier(random_state = 42)\n",
        "\n",
        "y_probas_forest = cross_val_predict(forest_clf, X_train,\n",
        "y_train_9, cv=3, method=\"predict_proba\")\n",
        "\n",
        "y_scores_forest = y_probas_forest[:,1]\n",
        "fpr_forest, tpr_forest, thresholds_forest = roc_curve(y_train_9,y_scores_forest)\n",
        "\n",
        "fig, ax = plt.subplots()\n",
        "ax.plot(fpr, tpr, \"b:\", label = \"SGD\")\n",
        "ax.plot(fpr_forest, tpr_forest, linewidth = 2, label=\"Random Forest\")\n",
        "ax.plot([0,1], [0, 1], 'k--')\n",
        "ax.legend(loc = 4)\n",
        "ax.set_title('ROC curves')\n"
      ],
      "execution_count": null,
      "outputs": [
        {
          "output_type": "execute_result",
          "data": {
            "text/plain": [
              "Text(0.5, 1.0, 'ROC curves')"
            ]
          },
          "metadata": {
            "tags": []
          },
          "execution_count": 25
        },
        {
          "output_type": "display_data",
          "data": {
            "image/png": "[encoded data removed]",
            "text/plain": [
              "<Figure size 432x288 with 1 Axes>"
            ]
          },
          "metadata": {
            "tags": [],
            "needs_background": "light"
          }
        }
      ]
    },
    {
      "cell_type": "markdown",
      "metadata": {
        "id": "-Cj8HuBK0Bi2"
      },
      "source": [
        "# Multi-Class Classification"
      ]
    },
    {
      "cell_type": "markdown",
      "metadata": {
        "id": "4PWzziNb0Bi2"
      },
      "source": [
        "- Binary classifiers distinguish between two classes\n",
        "- While multi-class classifiers (also called multinomial classifiers)\n",
        "  can distinguish\n",
        "     - Between more than two classes\n",
        "     - Can distinguish between multiple classes\n",
        "     - Eg. Random Forest classifiers , naive Bayes classifiers etc"
      ]
    },
    {
      "cell_type": "markdown",
      "metadata": {
        "id": "6hMpmUH20Bi2"
      },
      "source": [
        "**A Binary Classifier can be used for Multiclass Classification. There\n",
        "are basically two strategies for doing this.**"
      ]
    },
    {
      "cell_type": "markdown",
      "metadata": {
        "id": "ttEWBtP80Bi3"
      },
      "source": [
        "1) One-versus-all (OvA) strategy also called one-versus-the-rest \n",
        " - for example,\n",
        "\n",
        "    a) For eg. to classify the digit images into 10 classes (from 0 to 9)  one way is to train 10 binary classifiers, one for each digit (a 0-detector, a 1-detector, a 2-detector, and so on).\n",
        "\n",
        "    b) Then when you want to classify an image, select the class\n",
        "    whose classifier outputs the highest score."
      ]
    },
    {
      "cell_type": "code",
      "metadata": {
        "colab": {
          "base_uri": "https://localhost:8080/"
        },
        "id": "mnkM-5Il0Bi3",
        "outputId": "a9ceae0e-7680-4a7b-87c5-fc20aaa47ffb"
      },
      "source": [
        "#By default scikit learn SGDClassifier assumes OvA \n",
        "sgd_clf.fit(X_train, y_train)\n",
        "#Under the hood it trained 10 classifiers \n",
        "\n",
        "sgd_clf.predict([some_digit])"
      ],
      "execution_count": null,
      "outputs": [
        {
          "output_type": "stream",
          "text": [
            "/usr/local/lib/python3.7/dist-packages/sklearn/linear_model/_stochastic_gradient.py:557: ConvergenceWarning: Maximum number of iteration reached before convergence. Consider increasing max_iter to improve the fit.\n",
            "  ConvergenceWarning)\n"
          ],
          "name": "stderr"
        },
        {
          "output_type": "execute_result",
          "data": {
            "text/plain": [
              "array(['9'], dtype='<U1')"
            ]
          },
          "metadata": {
            "tags": []
          },
          "execution_count": 26
        }
      ]
    },
    {
      "cell_type": "markdown",
      "metadata": {
        "id": "Mk-agzPM0Bi3"
      },
      "source": [
        "- Doing multi-class classification using OvA Classifier\n",
        "\n",
        "    - 10 classifier scores is obtained\n",
        "    - Index of the maximum score is 9"
      ]
    },
    {
      "cell_type": "code",
      "metadata": {
        "colab": {
          "base_uri": "https://localhost:8080/"
        },
        "id": "j1NrWIM_0Bi4",
        "outputId": "df92a972-1e46-4caa-f56c-647f4f5cb5b0"
      },
      "source": [
        "some_digit_scores = sgd_clf.decision_function([some_digit])\n",
        "\n",
        "some_digit_scores"
      ],
      "execution_count": null,
      "outputs": [
        {
          "output_type": "execute_result",
          "data": {
            "text/plain": [
              "array([[-356891.78296008, -205893.89064262, -392724.74455931,\n",
              "         -42407.22865367,  -60859.41731767, -172084.00002865,\n",
              "        -360034.34598114,  -66102.34553565, -224000.91430693,\n",
              "          17111.65626963]])"
            ]
          },
          "metadata": {
            "tags": []
          },
          "execution_count": 27
        }
      ]
    },
    {
      "cell_type": "markdown",
      "metadata": {
        "id": "upj7NTWt0Bi4"
      },
      "source": [
        "the scores of 10 classifiers is obtained , and 17111.656 is the highest score "
      ]
    },
    {
      "cell_type": "markdown",
      "metadata": {
        "id": "dLu52zwl0Bi4"
      },
      "source": [
        "**2. One-versus-one (OvO) strategy** \r\n",
        "\r\n",
        "\r\n",
        "  a. This is another strategy in which we train a binary classifier\r\n",
        "for every pair of digits: one to distinguish 0s and 1s, another\r\n",
        "to distinguish 0s and 2s, another for 1s and 2s, and so on.\r\n",
        "\r\n",
        "b. If there are N classes, you need to train N × (N – 1) / 2\r\n",
        "classifiers."
      ]
    },
    {
      "cell_type": "markdown",
      "metadata": {
        "id": "h6eZ1BqY2AEW"
      },
      "source": [
        "**Doing multi-class classification using OvO Classifier**\r\n",
        "\r\n",
        "* SGD uses OVA by default\r\n",
        "* Need to specifically mention OvO to do OvO classification\r\n",
        "* Number of estimators trained for MNIST dataset = 45"
      ]
    },
    {
      "cell_type": "code",
      "metadata": {
        "colab": {
          "base_uri": "https://localhost:8080/"
        },
        "id": "OhanDPxr3Mhy",
        "outputId": "1589eb69-73bf-4c80-d2cc-d6d8352e8f10"
      },
      "source": [
        "from sklearn.multiclass import OneVsOneClassifier\r\n",
        "ovo_clf = OneVsOneClassifier(SGDClassifier(random_state =42, max_iter = 20))\r\n",
        "\r\n",
        "ovo_clf.fit(X_train, y_train)\r\n",
        "ovo_clf.predict([some_digit])\r\n"
      ],
      "execution_count": null,
      "outputs": [
        {
          "output_type": "stream",
          "text": [
            "/usr/local/lib/python3.7/dist-packages/sklearn/linear_model/_stochastic_gradient.py:557: ConvergenceWarning: Maximum number of iteration reached before convergence. Consider increasing max_iter to improve the fit.\n",
            "  ConvergenceWarning)\n",
            "/usr/local/lib/python3.7/dist-packages/sklearn/linear_model/_stochastic_gradient.py:557: ConvergenceWarning: Maximum number of iteration reached before convergence. Consider increasing max_iter to improve the fit.\n",
            "  ConvergenceWarning)\n",
            "/usr/local/lib/python3.7/dist-packages/sklearn/linear_model/_stochastic_gradient.py:557: ConvergenceWarning: Maximum number of iteration reached before convergence. Consider increasing max_iter to improve the fit.\n",
            "  ConvergenceWarning)\n",
            "/usr/local/lib/python3.7/dist-packages/sklearn/linear_model/_stochastic_gradient.py:557: ConvergenceWarning: Maximum number of iteration reached before convergence. Consider increasing max_iter to improve the fit.\n",
            "  ConvergenceWarning)\n",
            "/usr/local/lib/python3.7/dist-packages/sklearn/linear_model/_stochastic_gradient.py:557: ConvergenceWarning: Maximum number of iteration reached before convergence. Consider increasing max_iter to improve the fit.\n",
            "  ConvergenceWarning)\n",
            "/usr/local/lib/python3.7/dist-packages/sklearn/linear_model/_stochastic_gradient.py:557: ConvergenceWarning: Maximum number of iteration reached before convergence. Consider increasing max_iter to improve the fit.\n",
            "  ConvergenceWarning)\n",
            "/usr/local/lib/python3.7/dist-packages/sklearn/linear_model/_stochastic_gradient.py:557: ConvergenceWarning: Maximum number of iteration reached before convergence. Consider increasing max_iter to improve the fit.\n",
            "  ConvergenceWarning)\n",
            "/usr/local/lib/python3.7/dist-packages/sklearn/linear_model/_stochastic_gradient.py:557: ConvergenceWarning: Maximum number of iteration reached before convergence. Consider increasing max_iter to improve the fit.\n",
            "  ConvergenceWarning)\n",
            "/usr/local/lib/python3.7/dist-packages/sklearn/linear_model/_stochastic_gradient.py:557: ConvergenceWarning: Maximum number of iteration reached before convergence. Consider increasing max_iter to improve the fit.\n",
            "  ConvergenceWarning)\n",
            "/usr/local/lib/python3.7/dist-packages/sklearn/linear_model/_stochastic_gradient.py:557: ConvergenceWarning: Maximum number of iteration reached before convergence. Consider increasing max_iter to improve the fit.\n",
            "  ConvergenceWarning)\n",
            "/usr/local/lib/python3.7/dist-packages/sklearn/linear_model/_stochastic_gradient.py:557: ConvergenceWarning: Maximum number of iteration reached before convergence. Consider increasing max_iter to improve the fit.\n",
            "  ConvergenceWarning)\n",
            "/usr/local/lib/python3.7/dist-packages/sklearn/linear_model/_stochastic_gradient.py:557: ConvergenceWarning: Maximum number of iteration reached before convergence. Consider increasing max_iter to improve the fit.\n",
            "  ConvergenceWarning)\n",
            "/usr/local/lib/python3.7/dist-packages/sklearn/linear_model/_stochastic_gradient.py:557: ConvergenceWarning: Maximum number of iteration reached before convergence. Consider increasing max_iter to improve the fit.\n",
            "  ConvergenceWarning)\n",
            "/usr/local/lib/python3.7/dist-packages/sklearn/linear_model/_stochastic_gradient.py:557: ConvergenceWarning: Maximum number of iteration reached before convergence. Consider increasing max_iter to improve the fit.\n",
            "  ConvergenceWarning)\n",
            "/usr/local/lib/python3.7/dist-packages/sklearn/linear_model/_stochastic_gradient.py:557: ConvergenceWarning: Maximum number of iteration reached before convergence. Consider increasing max_iter to improve the fit.\n",
            "  ConvergenceWarning)\n",
            "/usr/local/lib/python3.7/dist-packages/sklearn/linear_model/_stochastic_gradient.py:557: ConvergenceWarning: Maximum number of iteration reached before convergence. Consider increasing max_iter to improve the fit.\n",
            "  ConvergenceWarning)\n",
            "/usr/local/lib/python3.7/dist-packages/sklearn/linear_model/_stochastic_gradient.py:557: ConvergenceWarning: Maximum number of iteration reached before convergence. Consider increasing max_iter to improve the fit.\n",
            "  ConvergenceWarning)\n",
            "/usr/local/lib/python3.7/dist-packages/sklearn/linear_model/_stochastic_gradient.py:557: ConvergenceWarning: Maximum number of iteration reached before convergence. Consider increasing max_iter to improve the fit.\n",
            "  ConvergenceWarning)\n",
            "/usr/local/lib/python3.7/dist-packages/sklearn/linear_model/_stochastic_gradient.py:557: ConvergenceWarning: Maximum number of iteration reached before convergence. Consider increasing max_iter to improve the fit.\n",
            "  ConvergenceWarning)\n",
            "/usr/local/lib/python3.7/dist-packages/sklearn/linear_model/_stochastic_gradient.py:557: ConvergenceWarning: Maximum number of iteration reached before convergence. Consider increasing max_iter to improve the fit.\n",
            "  ConvergenceWarning)\n",
            "/usr/local/lib/python3.7/dist-packages/sklearn/linear_model/_stochastic_gradient.py:557: ConvergenceWarning: Maximum number of iteration reached before convergence. Consider increasing max_iter to improve the fit.\n",
            "  ConvergenceWarning)\n",
            "/usr/local/lib/python3.7/dist-packages/sklearn/linear_model/_stochastic_gradient.py:557: ConvergenceWarning: Maximum number of iteration reached before convergence. Consider increasing max_iter to improve the fit.\n",
            "  ConvergenceWarning)\n",
            "/usr/local/lib/python3.7/dist-packages/sklearn/linear_model/_stochastic_gradient.py:557: ConvergenceWarning: Maximum number of iteration reached before convergence. Consider increasing max_iter to improve the fit.\n",
            "  ConvergenceWarning)\n",
            "/usr/local/lib/python3.7/dist-packages/sklearn/linear_model/_stochastic_gradient.py:557: ConvergenceWarning: Maximum number of iteration reached before convergence. Consider increasing max_iter to improve the fit.\n",
            "  ConvergenceWarning)\n",
            "/usr/local/lib/python3.7/dist-packages/sklearn/linear_model/_stochastic_gradient.py:557: ConvergenceWarning: Maximum number of iteration reached before convergence. Consider increasing max_iter to improve the fit.\n",
            "  ConvergenceWarning)\n",
            "/usr/local/lib/python3.7/dist-packages/sklearn/linear_model/_stochastic_gradient.py:557: ConvergenceWarning: Maximum number of iteration reached before convergence. Consider increasing max_iter to improve the fit.\n",
            "  ConvergenceWarning)\n",
            "/usr/local/lib/python3.7/dist-packages/sklearn/linear_model/_stochastic_gradient.py:557: ConvergenceWarning: Maximum number of iteration reached before convergence. Consider increasing max_iter to improve the fit.\n",
            "  ConvergenceWarning)\n",
            "/usr/local/lib/python3.7/dist-packages/sklearn/linear_model/_stochastic_gradient.py:557: ConvergenceWarning: Maximum number of iteration reached before convergence. Consider increasing max_iter to improve the fit.\n",
            "  ConvergenceWarning)\n",
            "/usr/local/lib/python3.7/dist-packages/sklearn/linear_model/_stochastic_gradient.py:557: ConvergenceWarning: Maximum number of iteration reached before convergence. Consider increasing max_iter to improve the fit.\n",
            "  ConvergenceWarning)\n",
            "/usr/local/lib/python3.7/dist-packages/sklearn/linear_model/_stochastic_gradient.py:557: ConvergenceWarning: Maximum number of iteration reached before convergence. Consider increasing max_iter to improve the fit.\n",
            "  ConvergenceWarning)\n",
            "/usr/local/lib/python3.7/dist-packages/sklearn/linear_model/_stochastic_gradient.py:557: ConvergenceWarning: Maximum number of iteration reached before convergence. Consider increasing max_iter to improve the fit.\n",
            "  ConvergenceWarning)\n",
            "/usr/local/lib/python3.7/dist-packages/sklearn/linear_model/_stochastic_gradient.py:557: ConvergenceWarning: Maximum number of iteration reached before convergence. Consider increasing max_iter to improve the fit.\n",
            "  ConvergenceWarning)\n",
            "/usr/local/lib/python3.7/dist-packages/sklearn/linear_model/_stochastic_gradient.py:557: ConvergenceWarning: Maximum number of iteration reached before convergence. Consider increasing max_iter to improve the fit.\n",
            "  ConvergenceWarning)\n",
            "/usr/local/lib/python3.7/dist-packages/sklearn/linear_model/_stochastic_gradient.py:557: ConvergenceWarning: Maximum number of iteration reached before convergence. Consider increasing max_iter to improve the fit.\n",
            "  ConvergenceWarning)\n",
            "/usr/local/lib/python3.7/dist-packages/sklearn/linear_model/_stochastic_gradient.py:557: ConvergenceWarning: Maximum number of iteration reached before convergence. Consider increasing max_iter to improve the fit.\n",
            "  ConvergenceWarning)\n",
            "/usr/local/lib/python3.7/dist-packages/sklearn/linear_model/_stochastic_gradient.py:557: ConvergenceWarning: Maximum number of iteration reached before convergence. Consider increasing max_iter to improve the fit.\n",
            "  ConvergenceWarning)\n",
            "/usr/local/lib/python3.7/dist-packages/sklearn/linear_model/_stochastic_gradient.py:557: ConvergenceWarning: Maximum number of iteration reached before convergence. Consider increasing max_iter to improve the fit.\n",
            "  ConvergenceWarning)\n",
            "/usr/local/lib/python3.7/dist-packages/sklearn/linear_model/_stochastic_gradient.py:557: ConvergenceWarning: Maximum number of iteration reached before convergence. Consider increasing max_iter to improve the fit.\n",
            "  ConvergenceWarning)\n",
            "/usr/local/lib/python3.7/dist-packages/sklearn/linear_model/_stochastic_gradient.py:557: ConvergenceWarning: Maximum number of iteration reached before convergence. Consider increasing max_iter to improve the fit.\n",
            "  ConvergenceWarning)\n",
            "/usr/local/lib/python3.7/dist-packages/sklearn/linear_model/_stochastic_gradient.py:557: ConvergenceWarning: Maximum number of iteration reached before convergence. Consider increasing max_iter to improve the fit.\n",
            "  ConvergenceWarning)\n",
            "/usr/local/lib/python3.7/dist-packages/sklearn/linear_model/_stochastic_gradient.py:557: ConvergenceWarning: Maximum number of iteration reached before convergence. Consider increasing max_iter to improve the fit.\n",
            "  ConvergenceWarning)\n",
            "/usr/local/lib/python3.7/dist-packages/sklearn/linear_model/_stochastic_gradient.py:557: ConvergenceWarning: Maximum number of iteration reached before convergence. Consider increasing max_iter to improve the fit.\n",
            "  ConvergenceWarning)\n"
          ],
          "name": "stderr"
        },
        {
          "output_type": "execute_result",
          "data": {
            "text/plain": [
              "array(['4'], dtype=object)"
            ]
          },
          "metadata": {
            "tags": []
          },
          "execution_count": 28
        }
      ]
    },
    {
      "cell_type": "code",
      "metadata": {
        "colab": {
          "base_uri": "https://localhost:8080/"
        },
        "id": "SUgRiken3lsV",
        "outputId": "8e83d7df-2845-4050-c886-45c4fdd5f965"
      },
      "source": [
        "len(ovo_clf.estimators_)"
      ],
      "execution_count": null,
      "outputs": [
        {
          "output_type": "execute_result",
          "data": {
            "text/plain": [
              "45"
            ]
          },
          "metadata": {
            "tags": []
          },
          "execution_count": 29
        }
      ]
    },
    {
      "cell_type": "markdown",
      "metadata": {
        "id": "wlfXKuOp34a9"
      },
      "source": [
        "**Error Analysis**\r\n",
        "* Once the model (classifier) is identified, it can be improved by analyzing the types of errors it makes\r\n",
        "* For the previous multiclass classification example of classifying images of digits into digit labels, it can be done by observing the confusion matrix and plotting it on the graph"
      ]
    },
    {
      "cell_type": "code",
      "metadata": {
        "colab": {
          "base_uri": "https://localhost:8080/"
        },
        "id": "nA5_1m5V4dFD",
        "outputId": "985d85e7-6ff1-4c64-cb6c-be7a0c571bb2"
      },
      "source": [
        "#calculating confusion matrix for multicalss using Scikit-Learn\r\n",
        "\r\n",
        "y_train_pred = cross_val_predict(sgd_clf, X_train, y_train, cv = 3)\r\n",
        "conf_mx = confusion_matrix(y_train, y_train_pred)\r\n",
        "\r\n",
        "conf_mx"
      ],
      "execution_count": null,
      "outputs": [
        {
          "output_type": "stream",
          "text": [
            "/usr/local/lib/python3.7/dist-packages/sklearn/linear_model/_stochastic_gradient.py:557: ConvergenceWarning: Maximum number of iteration reached before convergence. Consider increasing max_iter to improve the fit.\n",
            "  ConvergenceWarning)\n",
            "/usr/local/lib/python3.7/dist-packages/sklearn/linear_model/_stochastic_gradient.py:557: ConvergenceWarning: Maximum number of iteration reached before convergence. Consider increasing max_iter to improve the fit.\n",
            "  ConvergenceWarning)\n",
            "/usr/local/lib/python3.7/dist-packages/sklearn/linear_model/_stochastic_gradient.py:557: ConvergenceWarning: Maximum number of iteration reached before convergence. Consider increasing max_iter to improve the fit.\n",
            "  ConvergenceWarning)\n"
          ],
          "name": "stderr"
        },
        {
          "output_type": "execute_result",
          "data": {
            "text/plain": [
              "array([[5765,    2,   16,   16,    7,   21,   33,    9,   48,    6],\n",
              "       [   1, 6470,   41,   17,    9,   35,   13,   16,  138,    2],\n",
              "       [  79,   52, 5155,  153,   39,   31,  171,   85,  181,   12],\n",
              "       [  80,   40,  224, 5087,   19,  286,   62,   78,  217,   38],\n",
              "       [  37,   30,   46,   15, 5101,   22,   64,   75,  315,  137],\n",
              "       [ 127,   27,   35,  208,   48, 4451,  175,   35,  259,   56],\n",
              "       [  45,   10,   57,    3,   19,  112, 5611,   11,   45,    5],\n",
              "       [  25,   32,   91,   49,   50,   15,    8, 5824,   81,   90],\n",
              "       [  70,  175,  127,  278,   43,  394,   86,   51, 4571,   56],\n",
              "       [  48,   33,   54,  117,  326,   99,    5,  801,  834, 3632]])"
            ]
          },
          "metadata": {
            "tags": []
          },
          "execution_count": 30
        }
      ]
    },
    {
      "cell_type": "code",
      "metadata": {
        "colab": {
          "base_uri": "https://localhost:8080/",
          "height": 275
        },
        "id": "6XrNuhei59_Z",
        "outputId": "ac356134-8772-46d7-d7f1-b00b0a515484"
      },
      "source": [
        "#plotting confusion matrix for multiclass using sklearn\r\n",
        "\r\n",
        "plt.matshow(conf_mx, cmap = plt.cm.gray)\r\n",
        "plt.show()"
      ],
      "execution_count": null,
      "outputs": [
        {
          "output_type": "display_data",
          "data": {
            "image/png": "[encoded data removed]",
            "text/plain": [
              "<Figure size 288x288 with 1 Axes>"
            ]
          },
          "metadata": {
            "tags": [],
            "needs_background": "light"
          }
        }
      ]
    },
    {
      "cell_type": "markdown",
      "metadata": {
        "id": "Zwq25cXR6W9J"
      },
      "source": [
        "**Observations**:\r\n",
        "* Looks fairly good since most images are on the diagonal\r\n",
        "* 5s look darker than other digits \r\n",
        "    * it could be because , Fewer 5s in the dataset\r\n",
        "    * Classifier does not perform well on 5s\r\n",
        "\r\n"
      ]
    },
    {
      "cell_type": "code",
      "metadata": {
        "colab": {
          "base_uri": "https://localhost:8080/",
          "height": 275
        },
        "id": "0Iyyrgvi6sNw",
        "outputId": "7b1902fa-4458-475e-ff49-9dbc5d2928af"
      },
      "source": [
        "#Highlight the errors by normalizing\r\n",
        "row_sums = conf_mx.sum(axis = 1, keepdims = True)\r\n",
        "norm_conf_mx = conf_mx / row_sums\r\n",
        "\r\n",
        "#Remove the correct predictions\r\n",
        "\r\n",
        "np.fill_diagonal(norm_conf_mx, 0)\r\n",
        "plt.matshow(norm_conf_mx, cmap=plt.cm.gray)\r\n",
        "plt.show()"
      ],
      "execution_count": null,
      "outputs": [
        {
          "output_type": "display_data",
          "data": {
            "image/png": "[encoded data removed]",
            "text/plain": [
              "<Figure size 288x288 with 1 Axes>"
            ]
          },
          "metadata": {
            "tags": [],
            "needs_background": "light"
          }
        }
      ]
    },
    {
      "cell_type": "markdown",
      "metadata": {
        "id": "rUD0EgmZ8JV2"
      },
      "source": [
        "**Observations**:\r\n",
        "  * 8 and 9 columns are bright: many digits misclassified as 8 and 9\r\n",
        "  * 8 and 9 rows are bright: many 8 and 9 misclassified as other digits.\r\n",
        "  * (3,5) and (5,3) are little brighter :\r\n",
        "  confusion between 3 and 5\r\n",
        "  * 4 and 5 are confused with 8 \r\n",
        "\r\n",
        "**possible solutions**\r\n",
        "  * gather more training data for 8s and 9s\r\n",
        "  * Engineer new features that would help the classifier , like number of loops , curves , and bends\r\n",
        "  * preprocess images\r\n",
        "      * using skelarn, Pillow or OpenCV to make certain features stand out more\r\n",
        "\r\n",
        "  * we need to analyse individual errors"
      ]
    },
    {
      "cell_type": "markdown",
      "metadata": {
        "id": "XEQG9DTH9tl1"
      },
      "source": [
        "# Multilabel classification"
      ]
    },
    {
      "cell_type": "markdown",
      "metadata": {
        "id": "DaRSePK9_U2z"
      },
      "source": [
        "**Classification of image into whether [large, odd], how do we do it ?** "
      ]
    },
    {
      "cell_type": "code",
      "metadata": {
        "id": "C-F01C79-ZN-"
      },
      "source": [
        "\r\n",
        "y_train = y_train.astype(int)\r\n",
        "\r\n",
        "y_train_large = (y_train >=7)\r\n",
        "y_train_odd = (y_train % 2 == 1)\r\n",
        "y_multilabel = np.c_[y_train_large, y_train_odd]\r\n"
      ],
      "execution_count": null,
      "outputs": []
    },
    {
      "cell_type": "code",
      "metadata": {
        "colab": {
          "base_uri": "https://localhost:8080/"
        },
        "id": "2qTrgAeU_RE9",
        "outputId": "803544c0-30d4-4d11-adf5-aa107c3b9569"
      },
      "source": [
        "#Train the classifier\r\n",
        "\r\n",
        "#KNeighbours Classifier supports multi-label classification\r\n",
        "\r\n",
        "from sklearn.neighbors import KNeighborsClassifier\r\n",
        "knn_clf = KNeighborsClassifier()\r\n",
        "knn_clf.fit(X_train, y_multilabel)"
      ],
      "execution_count": null,
      "outputs": [
        {
          "output_type": "execute_result",
          "data": {
            "text/plain": [
              "KNeighborsClassifier(algorithm='auto', leaf_size=30, metric='minkowski',\n",
              "                     metric_params=None, n_jobs=None, n_neighbors=5, p=2,\n",
              "                     weights='uniform')"
            ]
          },
          "metadata": {
            "tags": []
          },
          "execution_count": 38
        }
      ]
    },
    {
      "cell_type": "code",
      "metadata": {
        "colab": {
          "base_uri": "https://localhost:8080/"
        },
        "id": "nitmGBDBAOER",
        "outputId": "ea095f30-fca7-473b-abeb-de71e6952961"
      },
      "source": [
        "knn_clf.predict([some_digit])"
      ],
      "execution_count": null,
      "outputs": [
        {
          "output_type": "execute_result",
          "data": {
            "text/plain": [
              "array([[ True,  True]])"
            ]
          },
          "metadata": {
            "tags": []
          },
          "execution_count": 39
        }
      ]
    },
    {
      "cell_type": "markdown",
      "metadata": {
        "id": "63HH1rL2A9l-"
      },
      "source": [
        "# Multi-Output Classification \r\n",
        "\r\n",
        "* It is simply a generalization of multilabel classification where\r\n",
        "each label can be multiclass (i.e., it can have more than two\r\n",
        "possible values).\r\n",
        "\r\n",
        "* Multi-output classification example:\r\n",
        "  * Removing noise from images\r\n",
        "\r\n",
        "* We'll build a system that removes noise from images. It will take\r\n",
        "as input a noisy digit image, and it will output a clean digit image,\r\n",
        "represented as an array of pixel intensities, just like the MNIST\r\n",
        "images.\r\n"
      ]
    },
    {
      "cell_type": "markdown",
      "metadata": {
        "id": "ehVWtluADBWI"
      },
      "source": [
        "● Notice that the classifier’s output is\r\n",
        "\r\n",
        " - **Multilabel (one label per pixel) - so 784 labels**\r\n",
        "\r\n",
        " -  **Multiclass:** And each label can have **multiple values** (pixel\r\n",
        "intensity ranges from 0 to 255) - 256 classes.\r\n",
        "\r\n",
        "It is thus an example of a **Multioutput classification system.**"
      ]
    },
    {
      "cell_type": "code",
      "metadata": {
        "id": "S5lK0yk6FLhG"
      },
      "source": [
        "#Demonstrating multi-output classifier: digit image noise removal\r\n",
        "\r\n",
        "#Adding noise to the training set\r\n",
        "\r\n",
        "import numpy.random as rnd\r\n",
        "noise_train = rnd.randint(0,100, (len(X_train), 784))\r\n",
        "X_train_mod = X_train + noise_train\r\n",
        "\r\n",
        "#adding noise to the test set\r\n",
        "\r\n",
        "noise_test = rnd.randint(0, 100, (len(X_test), 784))\r\n",
        "X_test_mod = X_test + noise_test\r\n",
        "\r\n"
      ],
      "execution_count": null,
      "outputs": []
    },
    {
      "cell_type": "code",
      "metadata": {
        "id": "yFOVgQ7RHd3s"
      },
      "source": [
        "#setting clean image as the label (y_train and y_test)\r\n",
        "\r\n",
        "y_train_mod = X_train\r\n",
        "y_test_mod = X_test\r\n"
      ],
      "execution_count": null,
      "outputs": []
    },
    {
      "cell_type": "code",
      "metadata": {
        "colab": {
          "base_uri": "https://localhost:8080/",
          "height": 248
        },
        "id": "bFC35K0mH1LJ",
        "outputId": "42b6ed8e-6176-4754-9c56-e1c72bc9f777"
      },
      "source": [
        "#let us view the noisy image \r\n",
        "\r\n",
        "def plot_digit(array):\r\n",
        "  array_image = array.reshape(28,28)\r\n",
        "  plt.imshow(array_image, cmap = matplotlib.cm.copper, interpolation = \"nearest\")\r\n",
        "  plt.axis('off')\r\n",
        "  plt.show()\r\n",
        "\r\n",
        "plot_digit(X_test_mod[4000])"
      ],
      "execution_count": null,
      "outputs": [
        {
          "output_type": "display_data",
          "data": {
            "image/png": "[encoded data removed]",
            "text/plain": [
              "<Figure size 432x288 with 1 Axes>"
            ]
          },
          "metadata": {
            "tags": [],
            "needs_background": "light"
          }
        }
      ]
    },
    {
      "cell_type": "code",
      "metadata": {
        "colab": {
          "base_uri": "https://localhost:8080/",
          "height": 248
        },
        "id": "5FH7nC6NJoYs",
        "outputId": "885c9990-ec5f-4c7a-f4f9-e29478c49ccc"
      },
      "source": [
        "plot_digit(X_test_mod[4001])"
      ],
      "execution_count": null,
      "outputs": [
        {
          "output_type": "display_data",
          "data": {
            "image/png": "[encoded data removed]",
            "text/plain": [
              "<Figure size 432x288 with 1 Axes>"
            ]
          },
          "metadata": {
            "tags": [],
            "needs_background": "light"
          }
        }
      ]
    },
    {
      "cell_type": "code",
      "metadata": {
        "colab": {
          "base_uri": "https://localhost:8080/",
          "height": 195
        },
        "id": "xK2IkMHCIYtx",
        "outputId": "abea4d95-13e0-4179-ead5-4df96caff710"
      },
      "source": [
        "#let us clean the image using the Classifier\r\n",
        "\r\n",
        "knn_clf.fit(X_train_mod, y_train_mod)\r\n"
      ],
      "execution_count": null,
      "outputs": [
        {
          "output_type": "error",
          "ename": "IndexError",
          "evalue": "ignored",
          "traceback": [
            "\u001b[0;31m---------------------------------------------------------------------------\u001b[0m",
            "\u001b[0;31mIndexError\u001b[0m                                Traceback (most recent call last)",
            "\u001b[0;32m<ipython-input-50-1704a85c5b13>\u001b[0m in \u001b[0;36m<module>\u001b[0;34m()\u001b[0m\n\u001b[1;32m      2\u001b[0m \u001b[0;34m\u001b[0m\u001b[0m\n\u001b[1;32m      3\u001b[0m \u001b[0mknn_clf\u001b[0m\u001b[0;34m.\u001b[0m\u001b[0mfit\u001b[0m\u001b[0;34m(\u001b[0m\u001b[0mX_train_mod\u001b[0m\u001b[0;34m,\u001b[0m \u001b[0my_train_mod\u001b[0m\u001b[0;34m)\u001b[0m\u001b[0;34m\u001b[0m\u001b[0;34m\u001b[0m\u001b[0m\n\u001b[0;32m----> 4\u001b[0;31m \u001b[0mclean_digit\u001b[0m \u001b[0;34m=\u001b[0m \u001b[0mknn_clf\u001b[0m\u001b[0;34m.\u001b[0m\u001b[0mpredict\u001b[0m\u001b[0;34m(\u001b[0m\u001b[0;34m[\u001b[0m\u001b[0mX_test_mod\u001b[0m\u001b[0;34m[\u001b[0m\u001b[0;36m40001\u001b[0m\u001b[0;34m]\u001b[0m\u001b[0;34m]\u001b[0m\u001b[0;34m)\u001b[0m\u001b[0;34m\u001b[0m\u001b[0;34m\u001b[0m\u001b[0m\n\u001b[0m",
            "\u001b[0;31mIndexError\u001b[0m: index 40001 is out of bounds for axis 0 with size 10000"
          ]
        }
      ]
    },
    {
      "cell_type": "code",
      "metadata": {
        "colab": {
          "base_uri": "https://localhost:8080/",
          "height": 248
        },
        "id": "XKI_ZAZZI_18",
        "outputId": "45f08b74-ca2f-4239-bdeb-243e3a970200"
      },
      "source": [
        "clean_digit = knn_clf.predict([X_test_mod[4001]])\r\n",
        "plot_digit(clean_digit)\r\n"
      ],
      "execution_count": null,
      "outputs": [
        {
          "output_type": "display_data",
          "data": {
            "image/png": "[encoded data removed]",
            "text/plain": [
              "<Figure size 432x288 with 1 Axes>"
            ]
          },
          "metadata": {
            "tags": [],
            "needs_background": "light"
          }
        }
      ]
    },
    {
      "cell_type": "code",
      "metadata": {
        "colab": {
          "base_uri": "https://localhost:8080/",
          "height": 479
        },
        "id": "v9dLrHhiJ94I",
        "outputId": "bd8b1247-b954-4b63-e36b-5df6ff5a5ad8"
      },
      "source": [
        "clean_digit1 = knn_clf.predict([X_test_mod[3999]])\r\n",
        "plot_digit(clean_digit1)\r\n",
        "plot_digit(X_test_mod[3999])"
      ],
      "execution_count": null,
      "outputs": [
        {
          "output_type": "display_data",
          "data": {
            "image/png": "[encoded data removed]",
            "text/plain": [
              "<Figure size 432x288 with 1 Axes>"
            ]
          },
          "metadata": {
            "tags": [],
            "needs_background": "light"
          }
        },
        {
          "output_type": "display_data",
          "data": {
            "image/png": "[encoded data removed]",
            "text/plain": [
              "<Figure size 432x288 with 1 Axes>"
            ]
          },
          "metadata": {
            "tags": [],
            "needs_background": "light"
          }
        }
      ]
    },
    {
      "cell_type": "code",
      "metadata": {
        "id": "4YKFGZHnJKDc"
      },
      "source": [
        ""
      ],
      "execution_count": null,
      "outputs": []
    }
  ]
}