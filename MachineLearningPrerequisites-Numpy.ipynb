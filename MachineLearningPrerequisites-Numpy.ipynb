{
 "cells": [
  {
   "cell_type": "markdown",
   "metadata": {
    "collapsed": true
   },
   "source": [
    " # Creating Numpy array by passing a Python tuple"
   ]
  },
  {
   "cell_type": "code",
   "execution_count": 41,
   "metadata": {},
   "outputs": [],
   "source": [
    "import numpy as np"
   ]
  },
  {
   "cell_type": "code",
   "execution_count": 42,
   "metadata": {},
   "outputs": [],
   "source": [
    "sample_list = [1,2,3]"
   ]
  },
  {
   "cell_type": "code",
   "execution_count": 43,
   "metadata": {},
   "outputs": [],
   "source": [
    "list_array = np.array(sample_list)"
   ]
  },
  {
   "cell_type": "markdown",
   "metadata": {},
   "source": []
  },
  {
   "cell_type": "code",
   "execution_count": 44,
   "metadata": {},
   "outputs": [],
   "source": [
    "tup = (1,2,3)"
   ]
  },
  {
   "cell_type": "code",
   "execution_count": 45,
   "metadata": {},
   "outputs": [
    {
     "data": {
      "text/plain": [
       "(3,)"
      ]
     },
     "execution_count": 45,
     "metadata": {},
     "output_type": "execute_result"
    }
   ],
   "source": [
    "my_tup_array = np.array(tup)\n",
    "list_array.shape"
   ]
  },
  {
   "cell_type": "code",
   "execution_count": 46,
   "metadata": {},
   "outputs": [
    {
     "name": "stdout",
     "output_type": "stream",
     "text": [
      "[1 2 3]\n"
     ]
    }
   ],
   "source": [
    "print(list_aray)"
   ]
  },
  {
   "cell_type": "code",
   "execution_count": 47,
   "metadata": {
    "scrolled": true
   },
   "outputs": [
    {
     "name": "stdout",
     "output_type": "stream",
     "text": [
      "[1 2 3]\n"
     ]
    }
   ],
   "source": [
    "print(my_tup_array)"
   ]
  },
  {
   "cell_type": "markdown",
   "metadata": {},
   "source": [
    "# Time comparison of a NumPy operation and a corresponding Python code"
   ]
  },
  {
   "cell_type": "code",
   "execution_count": 48,
   "metadata": {},
   "outputs": [],
   "source": [
    "#multiplication using normal Python way\n",
    "def multiply_loops(A,B):\n",
    "    c = np.zeros((A.shape[0], B.shape[1]))\n",
    "    for i in range(A.shape[0]):\n",
    "        for j in range(B.shape[1]):\n",
    "            c[i, j] = 0\n",
    "            \n",
    "            for k in range(A.shape[1]):\n",
    "                n = A[i,k]*B[k,j]\n",
    "                c[i ,j] += n\n",
    "                \n",
    "    return c \n",
    "        \n",
    "        \n",
    "    \n",
    "    "
   ]
  },
  {
   "cell_type": "code",
   "execution_count": 49,
   "metadata": {},
   "outputs": [],
   "source": [
    "#multiplication using NumPy's vector multiplication way.\n",
    "\n",
    "def multiply_vector(A,B):\n",
    "    return A @ B\n"
   ]
  },
  {
   "cell_type": "code",
   "execution_count": 95,
   "metadata": {},
   "outputs": [
    {
     "name": "stdout",
     "output_type": "stream",
     "text": [
      "[[0.98453322 0.43460693 0.74150897 ... 0.87780603 0.72999313 0.94588564]\n",
      " [0.16572332 0.30993434 0.61405982 ... 0.96908349 0.14732076 0.55376867]\n",
      " [0.27050356 0.35654216 0.68442423 ... 0.61998532 0.3208745  0.57043205]\n",
      " ...\n",
      " [0.13205989 0.79160376 0.38391423 ... 0.52575304 0.6990233  0.30849085]\n",
      " [0.45138154 0.5237616  0.82672139 ... 0.07536813 0.30570958 0.20278675]\n",
      " [0.75784902 0.95963142 0.85217797 ... 0.24420285 0.74499499 0.81281468]] [[0.33821526 0.2079561  0.35016184 ... 0.63323555 0.47888949 0.68060061]\n",
      " [0.7177991  0.2216195  0.79262381 ... 0.52775405 0.9438426  0.77623594]\n",
      " [0.37861962 0.92683565 0.53915274 ... 0.2638062  0.82906634 0.96334828]\n",
      " ...\n",
      " [0.92467405 0.27680764 0.9752705  ... 0.93372041 0.30747126 0.68539931]\n",
      " [0.01446751 0.20724991 0.17977622 ... 0.1554806  0.16069954 0.00528518]\n",
      " [0.94906449 0.61220561 0.49406737 ... 0.88610102 0.55623724 0.6112198 ]]\n"
     ]
    }
   ],
   "source": [
    "X = np.random.rand(100,90)\n",
    "Y = np.random.random((90,80))\n",
    "print(X,Y)"
   ]
  },
  {
   "cell_type": "code",
   "execution_count": 51,
   "metadata": {},
   "outputs": [
    {
     "name": "stdout",
     "output_type": "stream",
     "text": [
      "405 ms ± 1.2 ms per loop (mean ± std. dev. of 7 runs, 1 loop each)\n",
      "129 µs ± 11.1 µs per loop (mean ± std. dev. of 7 runs, 10000 loops each)\n"
     ]
    }
   ],
   "source": [
    "%timeit multiply_loops(X, Y)\n",
    "%timeit multiply_vector(X,Y)"
   ]
  },
  {
   "cell_type": "markdown",
   "metadata": {},
   "source": [
    "#  NumPy - Arrays - Special Types of Arrays - Array filled with specific value"
   ]
  },
  {
   "cell_type": "markdown",
   "metadata": {},
   "source": [
    "## Creating NumPy array with all its elements values as zero (using zeros() function of NumPy)"
   ]
  },
  {
   "cell_type": "code",
   "execution_count": 53,
   "metadata": {},
   "outputs": [],
   "source": [
    "#Create a tuple indicating dimensions of the desired array\n",
    "tup_dim = (3,4)"
   ]
  },
  {
   "cell_type": "code",
   "execution_count": 58,
   "metadata": {},
   "outputs": [
    {
     "name": "stdout",
     "output_type": "stream",
     "text": [
      "[[0 0 0 0]\n",
      " [0 0 0 0]\n",
      " [0 0 0 0]]\n"
     ]
    }
   ],
   "source": [
    "'''\n",
    "Now, create your NumPy array by passing the above tuple \n",
    "(tup_dim) to zeros() function below\n",
    "\n",
    "'''\n",
    "\n",
    "my_zeros_array = np.zeros(tup_dim , dtype =np.int16)\n",
    "print(my_zeros_array)"
   ]
  },
  {
   "cell_type": "markdown",
   "metadata": {},
   "source": [
    "##  Creating NumPy array with all its elements values as one (using ones() function of NumPy)"
   ]
  },
  {
   "cell_type": "code",
   "execution_count": 57,
   "metadata": {},
   "outputs": [],
   "source": [
    "#Create a tuple indicating dimensions of the desired array\n",
    "tup_dim = (3,4)"
   ]
  },
  {
   "cell_type": "code",
   "execution_count": 59,
   "metadata": {},
   "outputs": [
    {
     "name": "stdout",
     "output_type": "stream",
     "text": [
      "[[1 1 1 1]\n",
      " [1 1 1 1]\n",
      " [1 1 1 1]]\n"
     ]
    }
   ],
   "source": [
    "'''\n",
    "Now, create your NumPy array by passing the above tuple (tup_dim) to \n",
    "ones() function below\n",
    "\n",
    "'''\n",
    "my_ones_array = np.ones(tup_dim, dtype = np.int16)\n",
    "print(my_ones_array)"
   ]
  },
  {
   "cell_type": "markdown",
   "metadata": {
    "code_folding": []
   },
   "source": [
    "## Creating NumPy array with all its elements values as a specific given value (using full() function of NumPy)"
   ]
  },
  {
   "cell_type": "code",
   "execution_count": 61,
   "metadata": {},
   "outputs": [
    {
     "name": "stdout",
     "output_type": "stream",
     "text": [
      "[[7 7 7 7]\n",
      " [7 7 7 7]\n",
      " [7 7 7 7]]\n"
     ]
    }
   ],
   "source": [
    "'''\n",
    "Now, create your NumPy array by passing the above tuple (tup_dim) to full() function below, along with the \n",
    "desired value that you want the array to be filled with (e.g. say value 7)\n",
    "\n",
    "'''\n",
    "\n",
    "my_seven_array = np.full(tup_dim , 7, dtype = np.int16)\n",
    "\n",
    "print(my_seven_array)"
   ]
  },
  {
   "cell_type": "markdown",
   "metadata": {},
   "source": [
    "## Creating Identity matrix or array"
   ]
  },
  {
   "cell_type": "markdown",
   "metadata": {},
   "source": [
    "\"\"\"\n",
    "Identity matrix (array) is a square matrix with all its elements as zero (0) except for the diagonal elements whose value is one (1). That is, all the main diagonal values are 1s (one).\n",
    "\n",
    "You can create an Identity matrix by using numpy's identity() function by passing the desired dimension of the matrix (array) and the data type required.\n",
    "\n",
    "e.g. np.identity(2, dtype=float) will create a 2x2 matrix with all its values as 0.0 except for the diagonal values which will be 1.0\n",
    "\n",
    "\"\"\"\n",
    "\n"
   ]
  },
  {
   "cell_type": "code",
   "execution_count": 65,
   "metadata": {},
   "outputs": [
    {
     "name": "stdout",
     "output_type": "stream",
     "text": [
      "[[1. 0. 0. 0.]\n",
      " [0. 1. 0. 0.]\n",
      " [0. 0. 1. 0.]\n",
      " [0. 0. 0. 1.]]\n"
     ]
    }
   ],
   "source": [
    "my_identity_array = np.identity(4, dtype = np.float64)\n",
    "print(my_identity_array)"
   ]
  },
  {
   "cell_type": "markdown",
   "metadata": {},
   "source": [
    "# Numpy - Arrays - Special Types of Arrays - Array with Random Values"
   ]
  },
  {
   "cell_type": "markdown",
   "metadata": {},
   "source": [
    "Below are few more special NumPy arrays which you can create to contain random values.\n",
    "\n",
    "For example:\n",
    "\n",
    "1. NumPy array with all its elements values as random values (using random.rand() function of NumPy)\n",
    "2. NumPy array with all its elements values as uninitialized values (initialized with some random values which you are not aware of - using empty() function of NumPy)"
   ]
  },
  {
   "cell_type": "code",
   "execution_count": 105,
   "metadata": {},
   "outputs": [
    {
     "name": "stdout",
     "output_type": "stream",
     "text": [
      "[[0.21235297 0.55960935 0.29920399 0.85138542]\n",
      " [0.78146841 0.04052046 0.87904981 0.73641387]\n",
      " [0.4348942  0.04941379 0.26655949 0.36067324]]\n"
     ]
    }
   ],
   "source": [
    "'''\n",
    "Create your NumPy array by passing the above the desired dimensions\n",
    "of the array (say (3,4)) to random.rand() function below\n",
    "\n",
    "'''\n",
    "my_rand_array = np.random.rand(3,4)\n",
    "print(my_rand_array)\n"
   ]
  },
  {
   "cell_type": "code",
   "execution_count": 104,
   "metadata": {},
   "outputs": [
    {
     "name": "stdout",
     "output_type": "stream",
     "text": [
      "[[0.28961052 0.70872951 0.01210648 0.0356191 ]\n",
      " [0.02299172 0.90726761 0.42555599 0.16684941]\n",
      " [0.95446814 0.385983   0.31544842 0.19538158]]\n"
     ]
    }
   ],
   "source": [
    "'''\n",
    "NumPy array with all its elements values as uninitialized values (initialized with some random values which you are not \n",
    "aware of - using the empty() function of NumPy)\n",
    "\n",
    "'''\n",
    "my_uninitialized_array = np.empty((3,4))\n",
    "print(my_uninitialized_array)"
   ]
  },
  {
   "cell_type": "markdown",
   "metadata": {},
   "source": [
    "## Numpy - Arrays - Special Types of Arrays - Array with values within a particular range"
   ]
  },
  {
   "cell_type": "markdown",
   "metadata": {},
   "source": [
    "Below are few more special NumPy arrays that you can create, having values within a particular given range.\n",
    "\n",
    "For example, you can create a NumPy array in the below ways:\n",
    "\n",
    "1.By passing a range of values (using arange() function of NumPy)\n",
    "\n",
    "2.By passing an equally spaced range of values (using linspace() function of NumPy)"
   ]
  },
  {
   "cell_type": "markdown",
   "metadata": {},
   "source": [
    "### Creating a NumPy array by passing a range of values (using arange() function of NumPy)\n",
    "  \n",
    "  To create this NumPy array, pass the start value (10), end value (30) and the gap value 5, to the arange() function below\n"
   ]
  },
  {
   "cell_type": "code",
   "execution_count": 116,
   "metadata": {},
   "outputs": [
    {
     "name": "stdout",
     "output_type": "stream",
     "text": [
      "[10 15 20 25]\n"
     ]
    }
   ],
   "source": [
    "my_range_array = np.arange(10,30,5)\n",
    "print(my_range_array)"
   ]
  },
  {
   "cell_type": "markdown",
   "metadata": {},
   "source": [
    "### Creating a NumPy array by passing an equally spaced range of values (using linspace() function of NumPy)\n",
    "\n",
    "Suppose you want to create a NumPy array whose values should lie between 0 and 5/3 and the consecutive values should have an equal amount of gap between them (equally spaced values).\n",
    "\n",
    "To create this NumPy array, pass the start value (0), end value (5/3), and the total number of values you want (say 6), to the linspace() function below\n",
    "\n",
    "he above NumPy array my_spaced_array will have total of 6 values with values ranging between 0 and 5/3 (**including 5/3**) and having an equal amount of gap between the consecutive values.\n",
    "\n"
   ]
  },
  {
   "cell_type": "code",
   "execution_count": 120,
   "metadata": {},
   "outputs": [
    {
     "name": "stdout",
     "output_type": "stream",
     "text": [
      "[0.         0.33333333 0.66666667 1.         1.33333333 1.66666667]\n"
     ]
    }
   ],
   "source": [
    "my_spaced_array = np.linspace(0,5/3, 6)\n",
    "print(my_spaced_array)"
   ]
  },
  {
   "cell_type": "markdown",
   "metadata": {},
   "source": [
    "# NumPy - Arrays - Attributes of a NumPy Array"
   ]
  },
  {
   "cell_type": "markdown",
   "metadata": {},
   "source": [
    "NumPy array (ndarray class) is the most used construct of NumPy in Machine Learning and Deep Learning. Let us look into some important attributes of this NumPy array.\n",
    "\n",
    "Let us create a Numpy array first, say, array_A.\n",
    "\n",
    "Pass the above list to `array()` function of NumPy"
   ]
  },
  {
   "cell_type": "code",
   "execution_count": 131,
   "metadata": {},
   "outputs": [],
   "source": [
    "arra_A = np.array([[3,4,6], [0,8,1]])"
   ]
  },
  {
   "cell_type": "markdown",
   "metadata": {},
   "source": [
    "Now, let us understand some important attributes of ndarray object using the above-created array  `array_A` \n",
    "\n",
    "(1) ndarray.ndim\n",
    "\n",
    "`ndim` represents the number of dimensions (axes) of the ndarray.\n",
    "\n",
    "e.g. for this 2-dimensional array [ [3,4,6], [0,8,1]], value of ndim will be 2. This ndarray has two dimensions (axes) - rows (axis=0) and columns (axis=1)\n",
    "\n",
    "(2) ndarray.shape\n",
    "\n",
    "shape is a tuple of integers representing the size of the ndarray in each dimension.\n",
    "\n",
    "e.g. for this 2-dimensional array [ [3,4,6], [0,8,1]], value of shape will be (2,3) because this ndarray has two dimensions - rows and columns - and the number of rows is 2 and the number of columns is 3\n",
    "\n",
    "(3) ndarray.size\n",
    "\n",
    "size is the total number of elements in the ndarray. It is equal to the product of elements of the shape. e.g. for this 2-dimensional array [ [3,4,6], [0,8,1]], shape is (2,3), size will be product (multiplication) of 2 and 3 i.e. (2*3) = 6. Hence, the size is 6.\n",
    "\n",
    "(4) ndarray.dtype\n",
    "\n",
    "dtype tells the data type of the elements of a NumPy array. In NumPy array, all the elements have the same data type.\n",
    "\n",
    "e.g. for this NumPy array [ [3,4,6], [0,8,1]], dtype will be int64\n",
    "\n",
    "(5) ndarray.itemsize\n",
    "\n",
    "`itemsize` returns the size (in bytes) of each element of a NumPy array.\n",
    "\n",
    "e.g. for this NumPy array [ [3,4,6], [0,8,1]], itemsize will be 8, because this array consists of integers and size of integer (in bytes) is 8 bytes."
   ]
  },
  {
   "cell_type": "code",
   "execution_count": 132,
   "metadata": {},
   "outputs": [],
   "source": [
    "my_array = np.array([ [1, 4, 5, 6], [7, 8, 9, 10], [11, 12, 14, 16] ])"
   ]
  },
  {
   "cell_type": "code",
   "execution_count": 133,
   "metadata": {},
   "outputs": [
    {
     "name": "stdout",
     "output_type": "stream",
     "text": [
      "[[ 1  4  5  6]\n",
      " [ 7  8  9 10]\n",
      " [11 12 14 16]]\n"
     ]
    }
   ],
   "source": [
    "print(my_array)"
   ]
  },
  {
   "cell_type": "code",
   "execution_count": 143,
   "metadata": {},
   "outputs": [
    {
     "data": {
      "text/plain": [
       "dtype('int64')"
      ]
     },
     "execution_count": 143,
     "metadata": {},
     "output_type": "execute_result"
    }
   ],
   "source": [
    "my_array.dtype"
   ]
  },
  {
   "cell_type": "code",
   "execution_count": 145,
   "metadata": {},
   "outputs": [
    {
     "data": {
      "text/plain": [
       "12"
      ]
     },
     "execution_count": 145,
     "metadata": {},
     "output_type": "execute_result"
    }
   ],
   "source": [
    "my_array.size"
   ]
  },
  {
   "cell_type": "markdown",
   "metadata": {},
   "source": [
    "# Numpy - Arrays - Loading a text file data using NumPy's loadtxt() function - Step 1"
   ]
  },
  {
   "cell_type": "markdown",
   "metadata": {},
   "source": [
    "Although Pandas provides better ways and constructs to load a dataset from various sources like files, databases, etc. we should also know the NumPy constructs for the same."
   ]
  },
  {
   "cell_type": "markdown",
   "metadata": {},
   "source": [
    "There are two ways (constructs) in NumPy to load data from a text file:\n",
    "\n",
    "(1) using `loadtxt()` function\n",
    "\n",
    "(2) using `genfromtxt()` function"
   ]
  },
  {
   "cell_type": "markdown",
   "metadata": {},
   "source": [
    "`loadtxt()` function provides less flexibility, whereas genfromtxt() function provides more flexibility.\n",
    "\n",
    "For example, `genfromtxt()` function also handles the missing values kind of scenarios in the loaded dataset, whereas loadtxt() function doesn't."
   ]
  },
  {
   "cell_type": "markdown",
   "metadata": {},
   "source": [
    "`name_arr, address_arr, zipcode_arr = np.loadtxt('my_file.txt', skiprows=2, unpack=True)`"
   ]
  },
  {
   "cell_type": "markdown",
   "metadata": {},
   "source": [
    "The above piece of code will load the data from my_file.txt text file.\n",
    "\n",
    "skiprows=2 means, skip the first two rows of the my_file.txt file while loading the data.\n",
    "\n",
    "unpack=True means, unpack the columns of the dataset being loaded and return the data of each column separately in separate arrays ( name column data in name_arr array, address column data in address_arr array, zipcode column data in zipcode_arr array).\n",
    "\n",
    "unpack=False means, return only a single array as output from the loadtxt() function."
   ]
  },
  {
   "cell_type": "markdown",
   "metadata": {},
   "source": [
    "# Numpy - Arrays - Loading a text file data using NumPy's loadtxt() function - Step 2"
   ]
  },
  {
   "cell_type": "code",
   "execution_count": 153,
   "metadata": {},
   "outputs": [],
   "source": [
    "import os "
   ]
  },
  {
   "cell_type": "code",
   "execution_count": 152,
   "metadata": {},
   "outputs": [],
   "source": [
    "import pandas as pd\n",
    "# defining housing.csv file path\n",
    "HOUSING_PATH =  '/cxldata/datasets/project/housing'\n",
    "# reading the large housing.csv file using pandas\n",
    "housing_raw = pd.read_csv(os.path.join(HOUSING_PATH, \"housing.csv\"))\n",
    "# extracting only a few rows (5 rows) of data from the pandas dataframe 'my_df'\n",
    "my_df = housing_raw.iloc[ : 5]\n",
    "# creating a new small csv file - 'housing_short.csv' - containing the above extracted 5 rows of data\n",
    "my_df.to_csv('housing_short.csv', index=False)"
   ]
  },
  {
   "cell_type": "code",
   "execution_count": 155,
   "metadata": {},
   "outputs": [],
   "source": [
    "#load using Numpy\n",
    "\n",
    "FILE = 'housing_short.csv'"
   ]
  },
  {
   "cell_type": "code",
   "execution_count": 156,
   "metadata": {},
   "outputs": [],
   "source": [
    "def load_housing_data(file = FILE ):\n",
    "    return np.loadtxt(file, dtype={'names': ('longitude','latitude','housing_median_age','total_rooms','total_bedrooms','population','households','median_income','median_house_value','ocean_proximity'),'formats': ('f8', 'f8', 'f8', 'f8', 'f8', 'f8', 'f8', 'f8', 'f8', '|S15')}, delimiter=',', skiprows=1, unpack=True)"
   ]
  },
  {
   "cell_type": "markdown",
   "metadata": {},
   "source": [
    "loadtxt() function parameters:\n",
    "\n",
    "**first parameter** - file. It is the name of the file from which the data is to be loaded.\n",
    "\n",
    "**second parameter** - data type dtype of columns of the loaded csv file housing_short.csv. It is a Python dictionary with key as names of the columns, and values as the data types of these respective columns e.g. f8, |S15, etc.\n",
    "\n",
    "'f8' means 64-bit floating-point number\n",
    "\n",
    "'|S15' -means a string of length of 15 characters\n",
    "\n",
    "**third parameter** - delimiter. It is the character by which values in a row of our csv file are separated. For example, in our case values of a row of our csv file - housing_short.csv - are separated by ',' (comma)\n",
    "\n",
    "**fourth parameter** - skiprows. You can specify here, how many initial rows of the csv file you want to skip loading. E.g. you may want to skip the first row of this csv file, as it may contain header information in the first row, which you may not want to load.\n",
    "\n",
    "**fifth parameter** - unpack. When unpack is True, the returned array is transposed, so that arguments may be unpacked using x, y, z = loadtxt(...). When used with a structured data-type, arrays are returned for each field. The default value for unpack is False. But here we are returning the individual arrays so we have kept it here asTrue."
   ]
  },
  {
   "cell_type": "markdown",
   "metadata": {},
   "source": [
    "Please call the above defined load_housing_data() function, which returns various column values as NumPy arrays"
   ]
  },
  {
   "cell_type": "code",
   "execution_count": 159,
   "metadata": {},
   "outputs": [],
   "source": [
    "longitude_arr,latitude_arr,housing_median_age_arr,total_rooms_arr,total_bedrooms_arr,population_arr,households_arr,median_income_arr,median_house_value_arr,ocean_proximity_arr = load_housing_data()"
   ]
  },
  {
   "cell_type": "code",
   "execution_count": 160,
   "metadata": {},
   "outputs": [
    {
     "name": "stdout",
     "output_type": "stream",
     "text": [
      "[-122.23 -122.22 -122.24 -122.25 -122.25] [37.88 37.86 37.85 37.85 37.85] [41. 21. 52. 52. 52.] [ 880. 7099. 1467. 1274. 1627.] [ 129. 1106.  190.  235.  280.] [ 322. 2401.  496.  558.  565.] [ 126. 1138.  177.  219.  259.] [8.3252 8.3014 7.2574 5.6431 3.8462] [452600. 358500. 352100. 341300. 342200.] [b'NEAR BAY' b'NEAR BAY' b'NEAR BAY' b'NEAR BAY' b'NEAR BAY']\n"
     ]
    }
   ],
   "source": [
    "print(longitude_arr,latitude_arr,housing_median_age_arr,total_rooms_arr,total_bedrooms_arr,population_arr,households_arr,median_income_arr,median_house_value_arr,ocean_proximity_arr )"
   ]
  },
  {
   "cell_type": "markdown",
   "metadata": {},
   "source": [
    "# Numpy - Arrays - Loading a text file data using NumPy's genfromtxt() function "
   ]
  },
  {
   "cell_type": "markdown",
   "metadata": {},
   "source": []
  }
 ],
 "metadata": {
  "kernelspec": {
   "display_name": "Python 3",
   "language": "python",
   "name": "python3"
  },
  "language_info": {
   "codemirror_mode": {
    "name": "ipython",
    "version": 3
   },
   "file_extension": ".py",
   "mimetype": "text/x-python",
   "name": "python",
   "nbconvert_exporter": "python",
   "pygments_lexer": "ipython3",
   "version": "3.6.8"
  },
  "toc": {
   "base_numbering": 1,
   "nav_menu": {},
   "number_sections": true,
   "sideBar": true,
   "skip_h1_title": false,
   "title_cell": "Table of Contents",
   "title_sidebar": "Contents",
   "toc_cell": false,
   "toc_position": {},
   "toc_section_display": true,
   "toc_window_display": false
  }
 },
 "nbformat": 4,
 "nbformat_minor": 2
}
